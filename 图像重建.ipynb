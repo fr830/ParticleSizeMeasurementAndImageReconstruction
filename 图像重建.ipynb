{
 "cells": [
  {
   "cell_type": "code",
   "execution_count": 1,
   "metadata": {},
   "outputs": [],
   "source": [
    "import cv2\n",
    "import numpy as np"
   ]
  },
  {
   "cell_type": "code",
   "execution_count": 2,
   "metadata": {},
   "outputs": [],
   "source": [
    "img = cv2.imread('rebuild2.tif')\n",
    "img_b,g,r = cv2.split(img)\n",
    "cv2.imshow('origin(a)',img_b)\n",
    "\n",
    "# 重建开操作\n",
    "def rebuild(img, kernel, origin):\n",
    "#     kernel = np.ones((3,3), np.uint8)\n",
    "    rebuild_fore = cv2.dilate(img, kernel,iterations=1)\n",
    "    # 和原图与操作\n",
    "    rebuild_fore = np.minimum(rebuild_fore, origin)\n",
    "    rebuild_next = cv2.dilate(rebuild_fore, kernel, iterations=1)\n",
    "    rebuild_next = np.minimum(rebuild_next, origin)\n",
    "\n",
    "    while not (rebuild_fore == rebuild_next).all():\n",
    "        rebuild_fore = rebuild_next\n",
    "        rebuild_next = cv2.dilate(rebuild_next, kernel, iterations=1)\n",
    "        rebuild_next = np.minimum(rebuild_next, origin)\n",
    "\n",
    "    return rebuild_next\n",
    "\n",
    "    \n",
    "#重建开操作(1,71)\n",
    "kernel = np.ones((1,71), np.uint8)\n",
    "erode = cv2.erode(img_b,kernel,iterations=1)\n",
    "# cv2.imshow('erode', erode)\n",
    "rebuild_erode = rebuild(erode, kernel, img_b)\n",
    "cv2.imshow('rebuild(1,71)(b)', rebuild_erode)\n",
    "\n",
    "#开操作\n",
    "opening = cv2.morphologyEx(img_b, cv2.MORPH_OPEN, kernel)\n",
    "cv2.imshow('open(c)', opening)\n",
    "\n",
    "#重建顶帽操作\n",
    "rebuild_T_hot = img_b - rebuild_erode\n",
    "cv2.imshow('rebuild_T_hot(d)',rebuild_T_hot)\n",
    "\n",
    "#顶帽操作\n",
    "T_hot = img_b - opening\n",
    "cv2.imshow('T_hot(e)', T_hot)\n",
    "\n",
    "# f\n",
    "kernel = np.ones((1,11), np.uint8)\n",
    "erode_d = cv2.erode(rebuild_T_hot,kernel,iterations=1)\n",
    "kernel = np.ones((3,3), np.uint8)\n",
    "rebuild_d = rebuild(erode_d, kernel, rebuild_T_hot)\n",
    "cv2.imshow('rebuild_d(f)', rebuild_d)\n",
    "\n",
    "# g\n",
    "kernel = np.ones((1,21), np.uint8)\n",
    "dilate_f = cv2.dilate(rebuild_d, kernel, iterations=1)\n",
    "cv2.imshow('dilate_f(g)', dilate_f)\n",
    "\n",
    "# h\n",
    "img_h = np.minimum(rebuild_T_hot, dilate_f)\n",
    "cv2.imshow('minimum(h)',img_h)\n",
    "\n",
    "# i\n",
    "kernel = np.ones((3,3), np.uint8)\n",
    "img_i = rebuild(img_h, kernel, rebuild_T_hot)\n",
    "cv2.imshow('result(i)', img_i)\n",
    "\n",
    "\n",
    "cv2.waitKey(0)\n",
    "cv2.destroyAllWindows()"
   ]
  },
  {
   "cell_type": "code",
   "execution_count": null,
   "metadata": {
    "collapsed": true
   },
   "outputs": [],
   "source": []
  }
 ],
 "metadata": {
  "kernelspec": {
   "display_name": "Python 3",
   "language": "python",
   "name": "python3"
  },
  "language_info": {
   "codemirror_mode": {
    "name": "ipython",
    "version": 3
   },
   "file_extension": ".py",
   "mimetype": "text/x-python",
   "name": "python",
   "nbconvert_exporter": "python",
   "pygments_lexer": "ipython3",
   "version": "3.6.8"
  }
 },
 "nbformat": 4,
 "nbformat_minor": 2
}
